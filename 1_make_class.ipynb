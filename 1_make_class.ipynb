{
 "cells": [
  {
   "cell_type": "code",
   "execution_count": 1,
   "metadata": {},
   "outputs": [],
   "source": [
    "import numpy as np\n",
    "import gprm\n",
    "import pygplates\n",
    "import os\n",
    "import xarray as xr\n",
    "import pgpslabs_CLASS\n"
   ]
  },
  {
   "cell_type": "code",
   "execution_count": 2,
   "metadata": {},
   "outputs": [],
   "source": [
    "plate_dir = '/Users/andrew/Documents/GitHub/EarthBytePlateMotionModel-ARCHIVE/Muller++_2015_AREPS_CORRECTED'\n",
    "\n",
    "MUL2016 = gprm.ReconstructionModel('Muller++2016')\n",
    "MUL2016.add_rotation_model(os.path.join(plate_dir + '/Global_EarthByte_230-0Ma_GK07_AREPS.rot'))\n",
    "MUL2016.add_coastlines(os.path.join(plate_dir + '/Global_EarthByte_230-0Ma_GK07_AREPS_Coastlines.gpml'))\n",
    "MUL2016.add_dynamic_polygons(os.path.join(plate_dir + '/Global_EarthByte_230-0Ma_GK07_AREPS_PlateBoundaries.gpml'))\n",
    "MUL2016.add_dynamic_polygons(os.path.join(plate_dir + '/Global_EarthByte_230-0Ma_GK07_AREPS_Topology_BuildingBlocks.gpml'))\n",
    "\n",
    "datadir = '/Users/andrew/Documents/Data/Merdith_sub_zones/'\n",
    "\n",
    "ds_in = xr.open_dataset('%sSlab2point0/sub_zones_Slab2_no_halmahera.nc' % datadir)\n",
    "#organise our dataarray so its stacked\n",
    "ds_stacked = ds_in.stack(x=['latitude','longitude'])"
   ]
  },
  {
   "cell_type": "code",
   "execution_count": 3,
   "metadata": {},
   "outputs": [],
   "source": [
    "grid_filenames = [['/Users/andrew/Documents/Data/Chapman_arc_flare_up_DATA/thickness_grids/peridotite_thickness_post_serpentinisation','_Ma.nc'],\n",
    "                  ['/Users/andrew/Documents/Data/plate_model_grids/AREPS_CORRECTED-agegrid/Muller_etal_2016_AREPS_v1.17_AgeGrid-','.nc'],\n",
    "                  ['/Users/andrew/Documents/Data/plate_model_grids/AREPS_CORRECTED-spreadrate/Mask/rategrid_final_mask_','.nc']]\n"
   ]
  },
  {
   "cell_type": "code",
   "execution_count": 4,
   "metadata": {
    "scrolled": true
   },
   "outputs": [
    {
     "name": "stdout",
     "output_type": "stream",
     "text": [
      "time 1.00 Ma\n"
     ]
    },
    {
     "name": "stderr",
     "output_type": "stream",
     "text": [
      "Unable to find the overriding plate of the subducting shared sub-segment \"\" at 1.0Ma\n",
      "    both sharing topologies are on subducting side of subducting line.\n",
      "Unable to find the overriding plate of the subducting shared sub-segment \"So Melanesian-MG-5-20-07\"\n",
      "    subduction zone feature is missing subduction polarity property or it is set to \"Unknown\".\n",
      "Unable to find the overriding plate of the subducting shared sub-segment \"So Melanesian-MG-5-20-07\"\n",
      "    subduction zone feature is missing subduction polarity property or it is set to \"Unknown\".\n",
      "Unable to find the overriding plate of the subducting shared sub-segment \"NAM subduction COB\"\n",
      "    subduction zone feature is missing subduction polarity property or it is set to \"Unknown\".\n",
      "Unable to find the overriding and subducting plates of the subducting shared sub-segment \"NAM subduction COB clone\" at 1.0Ma\n",
      "    there are not exactly 2 topologies sharing the sub-segment.\n",
      "101\n",
      "Unable to find the overriding and subducting plates of the subducting shared sub-segment \"NAM subduction COB\" at 1.0Ma\n",
      "    there are not exactly 2 topologies sharing the sub-segment.\n",
      "901\n"
     ]
    },
    {
     "name": "stdout",
     "output_type": "stream",
     "text": [
      "time 0.00 Ma\n"
     ]
    },
    {
     "name": "stderr",
     "output_type": "stream",
     "text": [
      "Unable to find the overriding and subducting plates of the subducting shared sub-segment \"\" at 0.0Ma\n",
      "    there are not exactly 2 topologies sharing the sub-segment.\n",
      "224\n",
      "Unable to find the overriding plate of the subducting shared sub-segment \"So Melanesian-MG-5-20-07\"\n",
      "    subduction zone feature is missing subduction polarity property or it is set to \"Unknown\".\n",
      "Unable to find the overriding plate of the subducting shared sub-segment \"So Melanesian-MG-5-20-07\"\n",
      "    subduction zone feature is missing subduction polarity property or it is set to \"Unknown\".\n",
      "Unable to find the overriding and subducting plates of the subducting shared sub-segment \"\" at 0.0Ma\n",
      "    there are not exactly 2 topologies sharing the sub-segment.\n",
      "911\n",
      "Unable to find the overriding plate of the subducting shared sub-segment \"NAM subduction COB\"\n",
      "    subduction zone feature is missing subduction polarity property or it is set to \"Unknown\".\n"
     ]
    }
   ],
   "source": [
    "sub_slabs = pgpslabs_CLASS.Subducted_slabs_class(MUL2016,\n",
    "                                                 np.arange(1.,-1.,-1.),\n",
    "                                                 ds_stacked,\n",
    "                                                 tesselation_distance=np.radians(2),\n",
    "                                                 grid_filenames=grid_filenames,\n",
    "                                                 handle_splits=False)"
   ]
  },
  {
   "cell_type": "code",
   "execution_count": null,
   "metadata": {},
   "outputs": [],
   "source": []
  }
 ],
 "metadata": {
  "kernelspec": {
   "display_name": "Python 3",
   "language": "python",
   "name": "python3"
  },
  "language_info": {
   "codemirror_mode": {
    "name": "ipython",
    "version": 3
   },
   "file_extension": ".py",
   "mimetype": "text/x-python",
   "name": "python",
   "nbconvert_exporter": "python",
   "pygments_lexer": "ipython3",
   "version": "3.7.7"
  }
 },
 "nbformat": 4,
 "nbformat_minor": 4
}
