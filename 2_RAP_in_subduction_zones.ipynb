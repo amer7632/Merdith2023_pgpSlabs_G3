{
 "cells": [
  {
   "cell_type": "code",
   "execution_count": 1,
   "metadata": {},
   "outputs": [],
   "source": [
    "import numpy as np\n",
    "import pandas as pd\n",
    "import sys\n",
    "sys.path.insert(1, '/Users/andrew/Documents/python/pygplates_rev28_python37_MacOS64')\n",
    "import pygplates\n",
    "import xarray as xr\n",
    "import os\n",
    "import pickle\n",
    "\n",
    "import matplotlib.pyplot as plt\n",
    "from cmcrameri import cm"
   ]
  },
  {
   "cell_type": "code",
   "execution_count": 2,
   "metadata": {},
   "outputs": [],
   "source": [
    "datadir = '/Users/andrew/Documents/Data/Merdith_sub_zones/'\n",
    "savedir = '/Users/andrew/Documents/Data/Merdith_sub_zones/'\n",
    "\n",
    "df_syracuse = pd.read_csv('%ssyracuse_thermal/Table_2_sub_parameters.csv' % datadir)\n",
    "\n",
    "#some densities\n",
    "perid_density_g_cm3 = 3.3 #g/cm3\n",
    "perid_density_g_km3 = perid_density_g_cm3 * 100000**3\n",
    "perid_density_kg_km3 = perid_density_g_km3 * 1e-3"
   ]
  },
  {
   "cell_type": "code",
   "execution_count": 3,
   "metadata": {},
   "outputs": [],
   "source": [
    "with open('%s/subduction_tracks.pickle' % datadir, 'rb') as f:\n",
    "    tracks = pickle.load(f)"
   ]
  },
  {
   "cell_type": "code",
   "execution_count": 4,
   "metadata": {},
   "outputs": [],
   "source": [
    "#get surface lat/long of subduction zone (for worldview plot)\n",
    "sub_coords = []\n",
    "for ind, i in enumerate(tracks):\n",
    "    sub_coords.append(np.array([tracks[ind]['lon'].iloc[0], tracks[ind]['lat'].iloc[0]]))\n",
    "sub_coords = np.asarray(sub_coords)   \n",
    "\n",
    "#define target temp and pressure for serpentinisation\n",
    "#target_temp = [400, 550]\n",
    "#target_pressure = [1, 4]\n",
    "\n",
    "\n"
   ]
  },
  {
   "cell_type": "code",
   "execution_count": 5,
   "metadata": {},
   "outputs": [],
   "source": [
    "#classify each sub zone region\n",
    "#to get means and stds of each sub zone region\n",
    "time_step_perids = []\n",
    "new_sub_coords = []\n",
    "sub_results = []\n",
    "#define target temp and pressure for serpentinisation\n",
    "target_temp = [100, 700]\n",
    "target_pressure = [0, 7]\n",
    "target_sub_chron = [0, 5]\n",
    "#define arbitary peridotite value (in km)\n",
    "dummy_value = 0.3\n",
    "\n",
    "for sub_zone_name in df_syracuse['Name']:    \n",
    "    #print(sub_zone_name)\n",
    "    for i in np.arange(target_sub_chron[0],target_sub_chron[1]+1, 1):\n",
    "        perids = []\n",
    "        \n",
    "        for ind, track in enumerate(tracks):\n",
    "            #print(ind)\n",
    "            tmp_df = track[(track['sub_zone'] == sub_zone_name)\n",
    "                         & (track['temp'] > target_temp[0])\n",
    "                         & (track['temp'] < target_temp[1])\n",
    "                         & (track['pressure'] > target_pressure[0])\n",
    "                         & (track['pressure'] < target_pressure[1])\n",
    "                         & (track['sub_time'] == i)] \n",
    "            \n",
    "            if tmp_df.empty is False:\n",
    "                #change to dummy values for comparison\n",
    "                perid_values = tmp_df['peridotite'].values #dummy_value\n",
    "                try:\n",
    "                    perid_volume = (perid_values * tmp_df['slab_section_length'] * tmp_df['sub_length']).sum()\n",
    "                except:\n",
    "                    #just assume 1 km 'length' of slab for initial\n",
    "                    perid_volume = (1 * perid_values * tmp_df['sub_length']).sum()\n",
    "                perids.append(perid_volume)\n",
    "                new_sub_coords.append(sub_coords[ind])\n",
    "        time_step_perids.append(np.nansum(perids))\n",
    "\n",
    "#change to array and reshape\n",
    "time_step_perids = np.asarray(time_step_perids, dtype=object)\n",
    "time_step_perids = np.reshape(time_step_perids, (56,6))\n",
    "summed_sub_perids = np.nansum(time_step_perids, axis=1)\n",
    "#to sum totals instead"
   ]
  },
  {
   "cell_type": "code",
   "execution_count": 6,
   "metadata": {},
   "outputs": [
    {
     "name": "stdout",
     "output_type": "stream",
     "text": [
      "C_Chile 0.0\n",
      "C_Chile_gap 0.0\n",
      "C_Honshu 0.0\n",
      "Calabria 0.0\n",
      "NC_Chile 0.0\n",
      "N_Antilles 0.0\n",
      "N_Chile 0.0\n",
      "W_Aleut 0.0\n",
      "Kermadec 2266.417259101922\n",
      "North_Cascadia 6599.561410742059\n",
      "Izu 11213.617242782875\n",
      "S_Kurile 24077.63437114659\n",
      "N_Honshu 26732.36072520205\n",
      "Nicaragua 27785.232997177336\n",
      "New_Zealand 31451.803852978075\n",
      "Bonin 32319.939053175287\n",
      "Bali_Lombok 33151.25885872496\n",
      "N_Kurile 39148.89598952719\n",
      "C_Sumatra 47483.64967427902\n",
      "E_Aleut 47561.40561100634\n",
      "S_Vanuatu 48657.015016389094\n",
      "N_Marianas 59691.84114110429\n",
      "Alaska_Peninsula 60306.458345615596\n",
      "Colombia_Ecuador 65172.67331140906\n",
      "S_Sumatra 71050.28785107196\n",
      "C_Peru_gap 72356.80041740793\n",
      "Mexico 75150.78508236764\n",
      "Hokkaido 75316.25508494608\n",
      "GuatElSal 88927.99229785136\n",
      "Kamchatka 89816.75694720546\n",
      "Java 93293.72588969527\n",
      "Costa_Rica 96961.864078535\n",
      "Nankai 98369.77882110502\n",
      "W_Banda_Sea 98602.7664339542\n",
      "S_Chile 99735.33361182068\n",
      "Solomon 108719.03909534197\n",
      "Kyushu 115715.310420804\n",
      "C_Aleut 122493.74089481731\n",
      "S_Antilles 126786.93229332799\n",
      "Central_Cascadia 127604.18530480146\n",
      "Sunda_Strait 141807.57783134715\n",
      "Ryukyu 152873.38939257\n",
      "S_Marianas 155655.80881212093\n",
      "Tonga 170775.83249991265\n",
      "Alaska 179111.4111754406\n",
      "SC_Chile 179713.84767319832\n",
      "E_Banda_Sea 198115.81668563493\n",
      "N_Sumatra 221446.49401054127\n",
      "Scotia 223132.58977250115\n",
      "N_Peru_gap 265053.30141681136\n",
      "Peru 281185.7912983078\n",
      "N_Vanuatu 290776.0057697298\n",
      "New_Britain 319922.93821107905\n",
      "Aegean 342128.96676224435\n",
      "S_Phil 436944.1553723625\n",
      "N_Phil 717588.1315255426\n"
     ]
    }
   ],
   "source": [
    "#get ordered list of sub zone contributions\n",
    "sorted_sub_zone = [x for _,x in sorted(zip(summed_sub_perids,df_syracuse['Name']))]\n",
    "sorted_totals = np.sort(summed_sub_perids)\n",
    "for i,j in zip(sorted_sub_zone, sorted_totals):\n",
    "    print(i,j)"
   ]
  },
  {
   "cell_type": "code",
   "execution_count": 7,
   "metadata": {},
   "outputs": [
    {
     "data": {
      "text/plain": [
       "2.1122486146062694e+18"
      ]
     },
     "execution_count": 7,
     "metadata": {},
     "output_type": "execute_result"
    }
   ],
   "source": [
    "#convert to H2\n",
    "H2 = time_step_perids*perid_density_kg_km3*10e-2\n",
    "\n",
    "np.sum(H2)\n"
   ]
  },
  {
   "cell_type": "code",
   "execution_count": 8,
   "metadata": {},
   "outputs": [],
   "source": [
    "pressure_range = np.linspace(0,7,20)\n",
    "temp_range = np.linspace(100,700,20)\n",
    "\n",
    "\n",
    "pressure_steps = []\n",
    "temp_steps = []\n",
    "variables = []\n",
    "for ind, (i,j) in enumerate(zip(temp_range, pressure_range)):\n",
    "    if ind == len(temp_range)-1:\n",
    "        \n",
    "        break\n",
    "    else:\n",
    "        \n",
    "        start_pressure = pressure_range[ind]\n",
    "        final_pressure = pressure_range[ind+1]\n",
    "        pressure_steps.append(([start_pressure, final_pressure]))\n",
    "\n",
    "        start_temp = temp_range[ind]\n",
    "        final_temp = temp_range[ind+1]\n",
    "        temp_steps.append(([start_temp, final_temp]))\n",
    "pressure_steps = np.asarray(pressure_steps)\n",
    "temp_steps = np.asarray(temp_steps)"
   ]
  },
  {
   "cell_type": "code",
   "execution_count": 9,
   "metadata": {},
   "outputs": [],
   "source": [
    "#make PT stats\n",
    "#get stats for matrix\n",
    "\n",
    "total_peridotite = []\n",
    "conditions = []\n",
    "sub_segment_length = []\n",
    "#define arbitary peridotite value (in km)\n",
    "dummy_value = 0.3\n",
    "\n",
    "#loop through our conditions\n",
    "for ind, T_range in enumerate(temp_steps):\n",
    "    for ind2, rho_range in enumerate(pressure_steps):\n",
    "\n",
    "        #define our target conditions\n",
    "        target_temp = T_range\n",
    "        target_pressure = rho_range\n",
    "        conditions.append([T_range, rho_range])\n",
    "        \n",
    "        #arrays to store tmp results\n",
    "        tmp_perid = []\n",
    "        tmp_sub_length = []\n",
    "        #loop through tracks\n",
    "        for ind3, track in enumerate(tracks):\n",
    "            tmp_df =  track[(track['temp'] > target_temp[0])\n",
    "                          & (track['temp'] < target_temp[1])\n",
    "                          & (track['pressure'] > target_pressure[0])\n",
    "                          & (track['pressure'] < target_pressure[1])]\n",
    "            if tmp_df.empty is False:\n",
    "                #change to dummy values for comparison\n",
    "                perid_values = tmp_df['peridotite'].values #dummy_value\n",
    "                #because the shallowest sub point has length of 'nan' we have to check\n",
    "                try:\n",
    "                    perid_volume = (perid_values * tmp_df['slab_section_length'] * tmp_df['sub_length']).sum()\n",
    "                except:\n",
    "                    #just assume 1 km 'length' of slab for initial\n",
    "                    perid_volume = (1 * perid_values * tmp_df['sub_length']).sum()\n",
    "                tmp_perid.append(perid_volume)\n",
    "            else:\n",
    "                continue\n",
    "        total_peridotite.append(np.sum(tmp_perid))\n",
    "#conver to array\n",
    "conditions = np.asarray(conditions)\n",
    "total_peridotite = np.asarray(total_peridotite)"
   ]
  },
  {
   "cell_type": "code",
   "execution_count": 10,
   "metadata": {},
   "outputs": [],
   "source": [
    "y, x = np.meshgrid(pressure_steps[:,0], temp_steps[:,0])\n",
    "#h2_reshape = np.reshape(total_h2, np.shape(y))\n",
    "perid_reshape = np.reshape(total_peridotite, np.shape(y))"
   ]
  },
  {
   "cell_type": "code",
   "execution_count": 11,
   "metadata": {},
   "outputs": [
    {
     "name": "stderr",
     "output_type": "stream",
     "text": [
      "/Users/andrew/miniconda3/envs/py377/lib/python3.7/site-packages/ipykernel_launcher.py:2: MatplotlibDeprecationWarning: shading='flat' when X and Y have the same dimensions as C is deprecated since 3.3.  Either specify the corners of the quadrilaterals with X and Y, or pass shading='auto', 'nearest' or 'gouraud', or set rcParams['pcolor.shading'].  This will become an error two minor releases later.\n",
      "  \n"
     ]
    },
    {
     "data": {
      "text/plain": [
       "Text(0.5, 0.98, 'modelled RAP')"
      ]
     },
     "execution_count": 11,
     "metadata": {},
     "output_type": "execute_result"
    },
    {
     "data": {
      "image/png": "[encoded data removed]",
      "text/plain": [
       "<Figure size 576x432 with 2 Axes>"
      ]
     },
     "metadata": {
      "needs_background": "light"
     },
     "output_type": "display_data"
    }
   ],
   "source": [
    "fig, ax = plt.subplots(nrows=1, ncols=1,figsize=(8,6))\n",
    "c = ax.pcolor(x, y, perid_reshape, zorder=0, cmap=cm.batlow)\n",
    "ax.set_ylabel('Pressure (GPa)')\n",
    "ax.set_xlabel('Temp (°C)')\n",
    "cbar = fig.colorbar(c, ax=ax)\n",
    "cbar.set_label('Peridotite volume (km3)')\n",
    "fig.suptitle('modelled RAP')  "
   ]
  },
  {
   "cell_type": "code",
   "execution_count": 12,
   "metadata": {},
   "outputs": [],
   "source": [
    "#save results out\n",
    "df_results = pd.DataFrame({'total_peridotite':total_peridotite})\n",
    "df_results.to_csv('%sPT_results_20210217.csv' % savedir)"
   ]
  },
  {
   "cell_type": "code",
   "execution_count": null,
   "metadata": {},
   "outputs": [],
   "source": []
  }
 ],
 "metadata": {
  "kernelspec": {
   "display_name": "Python 3",
   "language": "python",
   "name": "python3"
  },
  "language_info": {
   "codemirror_mode": {
    "name": "ipython",
    "version": 3
   },
   "file_extension": ".py",
   "mimetype": "text/x-python",
   "name": "python",
   "nbconvert_exporter": "python",
   "pygments_lexer": "ipython3",
   "version": "3.7.7"
  }
 },
 "nbformat": 4,
 "nbformat_minor": 4
}
